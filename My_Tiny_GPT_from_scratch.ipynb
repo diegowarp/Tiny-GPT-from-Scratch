{
  "nbformat": 4,
  "nbformat_minor": 0,
  "metadata": {
    "colab": {
      "provenance": []
    },
    "kernelspec": {
      "name": "python3",
      "display_name": "Python 3"
    },
    "language_info": {
      "name": "python"
    }
  },
  "cells": [
    {
      "cell_type": "markdown",
      "source": [
        "This is my attempt to create a \"mini/tiny\" GPT. \n",
        "\n",
        "For this attempt, I'm using the [TinyShakespeare Dataset.](https://raw.githubusercontent.com/karpathy/char-rnn/master/data/tinyshakespeare/input.txt)\n",
        "\n",
        "To develop this model I'm using as material this amazing YouTube tutorial by Andrej Karpathy: https://youtu.be/kCc8FmEb1nY\n",
        "\n",
        "And also, and most important, consulting the main articles about the subjects I've mentioned and worked with in here:\n",
        "\n",
        "* [Attention is All You Need](https://proceedings.neurips.cc/paper_files/paper/2017/file/3f5ee243547dee91fbd053c1c4a845aa-Paper.pdf)\n",
        "\n",
        "* [Language Models are Few-Shot Learners](https://arxiv.org/pdf/2005.14165.pdf)\n"
      ],
      "metadata": {
        "id": "jNRI15kbOD6D"
      }
    },
    {
      "cell_type": "code",
      "execution_count": 1,
      "metadata": {
        "colab": {
          "base_uri": "https://localhost:8080/"
        },
        "id": "-JfFz_Rmr3Js",
        "outputId": "5de7005c-b978-4e4a-d60a-1132133fd377"
      },
      "outputs": [
        {
          "output_type": "stream",
          "name": "stdout",
          "text": [
            "--2023-05-11 17:03:55--  https://raw.githubusercontent.com/karpathy/char-rnn/master/data/tinyshakespeare/input.txt\n",
            "Resolving raw.githubusercontent.com (raw.githubusercontent.com)... 185.199.108.133, 185.199.109.133, 185.199.110.133, ...\n",
            "Connecting to raw.githubusercontent.com (raw.githubusercontent.com)|185.199.108.133|:443... connected.\n",
            "HTTP request sent, awaiting response... 200 OK\n",
            "Length: 1115394 (1.1M) [text/plain]\n",
            "Saving to: ‘input.txt’\n",
            "\n",
            "\rinput.txt             0%[                    ]       0  --.-KB/s               \rinput.txt           100%[===================>]   1.06M  --.-KB/s    in 0.008s  \n",
            "\n",
            "2023-05-11 17:03:55 (137 MB/s) - ‘input.txt’ saved [1115394/1115394]\n",
            "\n"
          ]
        }
      ],
      "source": [
        "#Let's start download the dataset. We're using Tiny Shakespeare in this application\n",
        "!wget https://raw.githubusercontent.com/karpathy/char-rnn/master/data/tinyshakespeare/input.txt"
      ]
    },
    {
      "cell_type": "code",
      "source": [
        "#reading it to inspect it\n",
        "with open('input.txt', 'r', encoding='utf-8') as f:\n",
        "  text = f.read()\n",
        "\n",
        "print(\"Length of dataset in characters \", len(text))"
      ],
      "metadata": {
        "colab": {
          "base_uri": "https://localhost:8080/"
        },
        "id": "7h1EQdPqxc2u",
        "outputId": "012dc2a5-2c48-4d41-8f57-6d817f57e538"
      },
      "execution_count": 2,
      "outputs": [
        {
          "output_type": "stream",
          "name": "stdout",
          "text": [
            "Length of dataset in characters  1115394\n"
          ]
        }
      ]
    },
    {
      "cell_type": "code",
      "source": [
        "#Collecting all the unique characters that appear in this dataset\n",
        "\n",
        "chars = sorted(list(set(text)))\n",
        "vocabSize = len(chars)\n",
        "print(''.join(chars))\n",
        "print(vocabSize)"
      ],
      "metadata": {
        "id": "UWeyvelyyoj1",
        "colab": {
          "base_uri": "https://localhost:8080/"
        },
        "outputId": "1d2e66e9-118a-423d-ea67-7caf3c93af0a"
      },
      "execution_count": 3,
      "outputs": [
        {
          "output_type": "stream",
          "name": "stdout",
          "text": [
            "\n",
            " !$&',-.3:;?ABCDEFGHIJKLMNOPQRSTUVWXYZabcdefghijklmnopqrstuvwxyz\n",
            "65\n"
          ]
        }
      ]
    },
    {
      "cell_type": "code",
      "source": [
        "#mapping from characters to integers\n",
        "\n",
        "stoi = {ch:i for i, ch in enumerate(chars)}\n",
        "itos = {i:ch for i, ch in enumerate(chars)}\n",
        "\n",
        "encode = lambda s: [stoi[c] for c in s] #encoder: take a string and gives an output of integers\n",
        "decode = lambda l: ''.join([itos[i] for i in l]) #decoder: take a list of integers and output a string\n",
        "\n",
        "print(encode(\"Starship Enterprise D\"))\n",
        "print(decode(encode(\"Starship Enterprise D\")))"
      ],
      "metadata": {
        "colab": {
          "base_uri": "https://localhost:8080/"
        },
        "id": "zjTHjR0qWAVq",
        "outputId": "f0821b83-8490-4336-f23c-72d2dbf3f876"
      },
      "execution_count": 4,
      "outputs": [
        {
          "output_type": "stream",
          "name": "stdout",
          "text": [
            "[31, 58, 39, 56, 57, 46, 47, 54, 1, 17, 52, 58, 43, 56, 54, 56, 47, 57, 43, 1, 16]\n",
            "Starship Enterprise D\n"
          ]
        }
      ]
    },
    {
      "cell_type": "code",
      "source": [
        "#encoding the entire text dataset and storing it into a torch tensor\n",
        "\n",
        "import torch\n",
        "data = torch.tensor(encode(text), dtype = torch.long)\n",
        "print(data.shape, data.dtype)\n",
        "print(data[:1000])"
      ],
      "metadata": {
        "colab": {
          "base_uri": "https://localhost:8080/"
        },
        "id": "Qkn1zSXQgT27",
        "outputId": "8b8ce34b-3012-4fc2-fa51-46f39fccec71"
      },
      "execution_count": 5,
      "outputs": [
        {
          "output_type": "stream",
          "name": "stdout",
          "text": [
            "torch.Size([1115394]) torch.int64\n",
            "tensor([18, 47, 56, 57, 58,  1, 15, 47, 58, 47, 64, 43, 52, 10,  0, 14, 43, 44,\n",
            "        53, 56, 43,  1, 61, 43,  1, 54, 56, 53, 41, 43, 43, 42,  1, 39, 52, 63,\n",
            "         1, 44, 59, 56, 58, 46, 43, 56,  6,  1, 46, 43, 39, 56,  1, 51, 43,  1,\n",
            "        57, 54, 43, 39, 49,  8,  0,  0, 13, 50, 50, 10,  0, 31, 54, 43, 39, 49,\n",
            "         6,  1, 57, 54, 43, 39, 49,  8,  0,  0, 18, 47, 56, 57, 58,  1, 15, 47,\n",
            "        58, 47, 64, 43, 52, 10,  0, 37, 53, 59,  1, 39, 56, 43,  1, 39, 50, 50,\n",
            "         1, 56, 43, 57, 53, 50, 60, 43, 42,  1, 56, 39, 58, 46, 43, 56,  1, 58,\n",
            "        53,  1, 42, 47, 43,  1, 58, 46, 39, 52,  1, 58, 53,  1, 44, 39, 51, 47,\n",
            "        57, 46, 12,  0,  0, 13, 50, 50, 10,  0, 30, 43, 57, 53, 50, 60, 43, 42,\n",
            "         8,  1, 56, 43, 57, 53, 50, 60, 43, 42,  8,  0,  0, 18, 47, 56, 57, 58,\n",
            "         1, 15, 47, 58, 47, 64, 43, 52, 10,  0, 18, 47, 56, 57, 58,  6,  1, 63,\n",
            "        53, 59,  1, 49, 52, 53, 61,  1, 15, 39, 47, 59, 57,  1, 25, 39, 56, 41,\n",
            "        47, 59, 57,  1, 47, 57,  1, 41, 46, 47, 43, 44,  1, 43, 52, 43, 51, 63,\n",
            "         1, 58, 53,  1, 58, 46, 43,  1, 54, 43, 53, 54, 50, 43,  8,  0,  0, 13,\n",
            "        50, 50, 10,  0, 35, 43,  1, 49, 52, 53, 61,  5, 58,  6,  1, 61, 43,  1,\n",
            "        49, 52, 53, 61,  5, 58,  8,  0,  0, 18, 47, 56, 57, 58,  1, 15, 47, 58,\n",
            "        47, 64, 43, 52, 10,  0, 24, 43, 58,  1, 59, 57,  1, 49, 47, 50, 50,  1,\n",
            "        46, 47, 51,  6,  1, 39, 52, 42,  1, 61, 43,  5, 50, 50,  1, 46, 39, 60,\n",
            "        43,  1, 41, 53, 56, 52,  1, 39, 58,  1, 53, 59, 56,  1, 53, 61, 52,  1,\n",
            "        54, 56, 47, 41, 43,  8,  0, 21, 57,  5, 58,  1, 39,  1, 60, 43, 56, 42,\n",
            "        47, 41, 58, 12,  0,  0, 13, 50, 50, 10,  0, 26, 53,  1, 51, 53, 56, 43,\n",
            "         1, 58, 39, 50, 49, 47, 52, 45,  1, 53, 52,  5, 58, 11,  1, 50, 43, 58,\n",
            "         1, 47, 58,  1, 40, 43,  1, 42, 53, 52, 43, 10,  1, 39, 61, 39, 63,  6,\n",
            "         1, 39, 61, 39, 63,  2,  0,  0, 31, 43, 41, 53, 52, 42,  1, 15, 47, 58,\n",
            "        47, 64, 43, 52, 10,  0, 27, 52, 43,  1, 61, 53, 56, 42,  6,  1, 45, 53,\n",
            "        53, 42,  1, 41, 47, 58, 47, 64, 43, 52, 57,  8,  0,  0, 18, 47, 56, 57,\n",
            "        58,  1, 15, 47, 58, 47, 64, 43, 52, 10,  0, 35, 43,  1, 39, 56, 43,  1,\n",
            "        39, 41, 41, 53, 59, 52, 58, 43, 42,  1, 54, 53, 53, 56,  1, 41, 47, 58,\n",
            "        47, 64, 43, 52, 57,  6,  1, 58, 46, 43,  1, 54, 39, 58, 56, 47, 41, 47,\n",
            "        39, 52, 57,  1, 45, 53, 53, 42,  8,  0, 35, 46, 39, 58,  1, 39, 59, 58,\n",
            "        46, 53, 56, 47, 58, 63,  1, 57, 59, 56, 44, 43, 47, 58, 57,  1, 53, 52,\n",
            "         1, 61, 53, 59, 50, 42,  1, 56, 43, 50, 47, 43, 60, 43,  1, 59, 57, 10,\n",
            "         1, 47, 44,  1, 58, 46, 43, 63,  0, 61, 53, 59, 50, 42,  1, 63, 47, 43,\n",
            "        50, 42,  1, 59, 57,  1, 40, 59, 58,  1, 58, 46, 43,  1, 57, 59, 54, 43,\n",
            "        56, 44, 50, 59, 47, 58, 63,  6,  1, 61, 46, 47, 50, 43,  1, 47, 58,  1,\n",
            "        61, 43, 56, 43,  0, 61, 46, 53, 50, 43, 57, 53, 51, 43,  6,  1, 61, 43,\n",
            "         1, 51, 47, 45, 46, 58,  1, 45, 59, 43, 57, 57,  1, 58, 46, 43, 63,  1,\n",
            "        56, 43, 50, 47, 43, 60, 43, 42,  1, 59, 57,  1, 46, 59, 51, 39, 52, 43,\n",
            "        50, 63, 11,  0, 40, 59, 58,  1, 58, 46, 43, 63,  1, 58, 46, 47, 52, 49,\n",
            "         1, 61, 43,  1, 39, 56, 43,  1, 58, 53, 53,  1, 42, 43, 39, 56, 10,  1,\n",
            "        58, 46, 43,  1, 50, 43, 39, 52, 52, 43, 57, 57,  1, 58, 46, 39, 58,  0,\n",
            "        39, 44, 44, 50, 47, 41, 58, 57,  1, 59, 57,  6,  1, 58, 46, 43,  1, 53,\n",
            "        40, 48, 43, 41, 58,  1, 53, 44,  1, 53, 59, 56,  1, 51, 47, 57, 43, 56,\n",
            "        63,  6,  1, 47, 57,  1, 39, 57,  1, 39, 52,  0, 47, 52, 60, 43, 52, 58,\n",
            "        53, 56, 63,  1, 58, 53,  1, 54, 39, 56, 58, 47, 41, 59, 50, 39, 56, 47,\n",
            "        57, 43,  1, 58, 46, 43, 47, 56,  1, 39, 40, 59, 52, 42, 39, 52, 41, 43,\n",
            "        11,  1, 53, 59, 56,  0, 57, 59, 44, 44, 43, 56, 39, 52, 41, 43,  1, 47,\n",
            "        57,  1, 39,  1, 45, 39, 47, 52,  1, 58, 53,  1, 58, 46, 43, 51,  1, 24,\n",
            "        43, 58,  1, 59, 57,  1, 56, 43, 60, 43, 52, 45, 43,  1, 58, 46, 47, 57,\n",
            "         1, 61, 47, 58, 46,  0, 53, 59, 56,  1, 54, 47, 49, 43, 57,  6,  1, 43,\n",
            "        56, 43,  1, 61, 43,  1, 40, 43, 41, 53, 51, 43,  1, 56, 39, 49, 43, 57,\n",
            "        10,  1, 44, 53, 56,  1, 58, 46, 43,  1, 45, 53, 42, 57,  1, 49, 52, 53,\n",
            "        61,  1, 21,  0, 57, 54, 43, 39, 49,  1, 58, 46, 47, 57,  1, 47, 52,  1,\n",
            "        46, 59, 52, 45, 43, 56,  1, 44, 53, 56,  1, 40, 56, 43, 39, 42,  6,  1,\n",
            "        52, 53, 58,  1, 47, 52,  1, 58, 46, 47, 56, 57, 58,  1, 44, 53, 56,  1,\n",
            "        56, 43, 60, 43, 52, 45, 43,  8,  0,  0])\n"
          ]
        }
      ]
    },
    {
      "cell_type": "code",
      "source": [
        "#Now let's slipt up the data intro train and validation sets\n",
        "\n",
        "n = int(0.9*len(data))\n",
        "trainData = data[:n]\n",
        "valData = data[n:]"
      ],
      "metadata": {
        "id": "w-sYk_9Hkbod"
      },
      "execution_count": 6,
      "outputs": []
    },
    {
      "cell_type": "code",
      "source": [
        "blockSize = 8\n",
        "x = trainData[:blockSize]\n",
        "y = trainData[1:blockSize+1]\n",
        "for t in range(blockSize):\n",
        "  context = x[:t+1]\n",
        "  target = y[t]\n",
        "  print(f\"When input is {context} the target is: {target}\")"
      ],
      "metadata": {
        "colab": {
          "base_uri": "https://localhost:8080/"
        },
        "id": "xKRaggURp10l",
        "outputId": "39e5c8e3-0a75-4ad7-e18b-fa2634839381"
      },
      "execution_count": 7,
      "outputs": [
        {
          "output_type": "stream",
          "name": "stdout",
          "text": [
            "When input is tensor([18]) the target is: 47\n",
            "When input is tensor([18, 47]) the target is: 56\n",
            "When input is tensor([18, 47, 56]) the target is: 57\n",
            "When input is tensor([18, 47, 56, 57]) the target is: 58\n",
            "When input is tensor([18, 47, 56, 57, 58]) the target is: 1\n",
            "When input is tensor([18, 47, 56, 57, 58,  1]) the target is: 15\n",
            "When input is tensor([18, 47, 56, 57, 58,  1, 15]) the target is: 47\n",
            "When input is tensor([18, 47, 56, 57, 58,  1, 15, 47]) the target is: 58\n"
          ]
        }
      ]
    },
    {
      "cell_type": "code",
      "source": [
        "torch.manual_seed(1337)\n",
        "batchSize = 4\n",
        "blockSize = 8\n",
        "\n",
        "def getBatch(slipt):\n",
        "  data = trainData if slipt == 'train' else valData\n",
        "  ix = torch.randint(len(data) - blockSize, (batchSize,))\n",
        "  x = torch.stack ([data[i:i+blockSize] for i in ix])\n",
        "  y = torch.stack ([data[i+1:i+blockSize+1] for i in ix])\n",
        "  return x, y\n",
        "\n",
        "xb, yb = getBatch('train')\n",
        "\n",
        "print('inputs:')\n",
        "print(xb.shape)\n",
        "print(xb)\n",
        "print('targets:')\n",
        "print(yb.shape)\n",
        "print(yb)\n",
        "\n",
        "print('-----')\n",
        "\n",
        "for b in range(batchSize):\n",
        "  for t in range(blockSize):\n",
        "    context = xb[b, :t+1]\n",
        "    target = yb[b, t]\n",
        "    print(f\"When input is {context.tolist()} the target is: {target}\")"
      ],
      "metadata": {
        "colab": {
          "base_uri": "https://localhost:8080/"
        },
        "id": "s2nTyLJ8q3R8",
        "outputId": "1d0d1f3a-b42c-4363-b4a4-b709e9123826"
      },
      "execution_count": 8,
      "outputs": [
        {
          "output_type": "stream",
          "name": "stdout",
          "text": [
            "inputs:\n",
            "torch.Size([4, 8])\n",
            "tensor([[24, 43, 58,  5, 57,  1, 46, 43],\n",
            "        [44, 53, 56,  1, 58, 46, 39, 58],\n",
            "        [52, 58,  1, 58, 46, 39, 58,  1],\n",
            "        [25, 17, 27, 10,  0, 21,  1, 54]])\n",
            "targets:\n",
            "torch.Size([4, 8])\n",
            "tensor([[43, 58,  5, 57,  1, 46, 43, 39],\n",
            "        [53, 56,  1, 58, 46, 39, 58,  1],\n",
            "        [58,  1, 58, 46, 39, 58,  1, 46],\n",
            "        [17, 27, 10,  0, 21,  1, 54, 39]])\n",
            "-----\n",
            "When input is [24] the target is: 43\n",
            "When input is [24, 43] the target is: 58\n",
            "When input is [24, 43, 58] the target is: 5\n",
            "When input is [24, 43, 58, 5] the target is: 57\n",
            "When input is [24, 43, 58, 5, 57] the target is: 1\n",
            "When input is [24, 43, 58, 5, 57, 1] the target is: 46\n",
            "When input is [24, 43, 58, 5, 57, 1, 46] the target is: 43\n",
            "When input is [24, 43, 58, 5, 57, 1, 46, 43] the target is: 39\n",
            "When input is [44] the target is: 53\n",
            "When input is [44, 53] the target is: 56\n",
            "When input is [44, 53, 56] the target is: 1\n",
            "When input is [44, 53, 56, 1] the target is: 58\n",
            "When input is [44, 53, 56, 1, 58] the target is: 46\n",
            "When input is [44, 53, 56, 1, 58, 46] the target is: 39\n",
            "When input is [44, 53, 56, 1, 58, 46, 39] the target is: 58\n",
            "When input is [44, 53, 56, 1, 58, 46, 39, 58] the target is: 1\n",
            "When input is [52] the target is: 58\n",
            "When input is [52, 58] the target is: 1\n",
            "When input is [52, 58, 1] the target is: 58\n",
            "When input is [52, 58, 1, 58] the target is: 46\n",
            "When input is [52, 58, 1, 58, 46] the target is: 39\n",
            "When input is [52, 58, 1, 58, 46, 39] the target is: 58\n",
            "When input is [52, 58, 1, 58, 46, 39, 58] the target is: 1\n",
            "When input is [52, 58, 1, 58, 46, 39, 58, 1] the target is: 46\n",
            "When input is [25] the target is: 17\n",
            "When input is [25, 17] the target is: 27\n",
            "When input is [25, 17, 27] the target is: 10\n",
            "When input is [25, 17, 27, 10] the target is: 0\n",
            "When input is [25, 17, 27, 10, 0] the target is: 21\n",
            "When input is [25, 17, 27, 10, 0, 21] the target is: 1\n",
            "When input is [25, 17, 27, 10, 0, 21, 1] the target is: 54\n",
            "When input is [25, 17, 27, 10, 0, 21, 1, 54] the target is: 39\n"
          ]
        }
      ]
    },
    {
      "cell_type": "code",
      "source": [
        "import torch\n",
        "import torch.nn as nn\n",
        "from torch.nn import functional as F\n",
        "torch.manual_seed(1337)\n",
        "\n",
        "class BigramLanguageModel(nn.Module):\n",
        "\n",
        "  def __init__(self, vocab_size):\n",
        "\n",
        "    super().__init__()\n",
        "    self.token_embeeding_table = nn.Embedding(vocab_size, vocab_size)\n",
        "\n",
        "  def forward(self, idx, targets = None):\n",
        "\n",
        "    logits = self.token_embeeding_table(idx)\n",
        "\n",
        "    if targets is None:\n",
        "\n",
        "      loss = None\n",
        "\n",
        "    else:\n",
        "\n",
        "      B, T, C = logits.shape\n",
        "      logits = logits.view(B*T, C)\n",
        "      targets = targets.view(B*T)\n",
        "      loss = F.cross_entropy(logits, targets)\n",
        "\n",
        "    return logits, loss\n",
        "\n",
        "  def generate(self, idx, max_new_tokens):\n",
        "    for _ in range(max_new_tokens):\n",
        "      #get the predictions\n",
        "      logits, loss = self(idx)\n",
        "      #focus only on the last time step\n",
        "      logits = logits[:, -1, :] #becomes (B, C)\n",
        "      #apply softmax to get probabilities \n",
        "      probs = F.softmax(logits, dim=1) #(B, C)\n",
        "      #sample for the distribuition\n",
        "      idx_next = torch.multinomial(probs, num_samples=1) #(B, 1)\n",
        "      #append sampled index to the running sequence \n",
        "      idx = torch.cat((idx, idx_next), dim=1) #(B, T+1)\n",
        "    return idx\n",
        "\n",
        "m = BigramLanguageModel(vocabSize)\n",
        "logits, loss = m(xb, yb)\n",
        "print(logits.shape)\n",
        "print(loss)\n",
        "idx = torch.zeros((1,1), dtype = torch.long)\n",
        "print(decode(m.generate(idx, max_new_tokens=100)[0].tolist()))"
      ],
      "metadata": {
        "colab": {
          "base_uri": "https://localhost:8080/"
        },
        "id": "Hxw9qWiQ2DkV",
        "outputId": "dc6c783d-0036-4bb0-c65e-88f5b18fe4f7"
      },
      "execution_count": 9,
      "outputs": [
        {
          "output_type": "stream",
          "name": "stdout",
          "text": [
            "torch.Size([32, 65])\n",
            "tensor(4.8786, grad_fn=<NllLossBackward0>)\n",
            "\n",
            "Sr?qP-QWktXoL&jLDJgOLVz'RIoDqHdhsV&vLLxatjscMpwLERSPyao.qfzs$Ys$zF-w,;eEkzxjgCKFChs!iWW.ObzDnxA Ms$3\n"
          ]
        }
      ]
    },
    {
      "cell_type": "code",
      "source": [
        "#creating a PyTorch optimizer\n",
        "\n",
        "optimizer = torch.optim.AdamW(m.parameters(), lr=1e-3)\n",
        "\n",
        "batchSize = 32\n",
        "\n",
        "for steps in range(10000):\n",
        "\n",
        "  #sample of a batch data\n",
        "  xb, yb = getBatch('train')\n",
        "\n",
        "  #evaluate the loss\n",
        "  logits, loss = m(xb, yb)\n",
        "  optimizer.zero_grad(set_to_none=True)\n",
        "  loss.backward()\n",
        "  optimizer.step()\n",
        "\n",
        "print(loss.item())"
      ],
      "metadata": {
        "colab": {
          "base_uri": "https://localhost:8080/"
        },
        "id": "j8db1SZXji_r",
        "outputId": "7203589b-f4f6-4f8d-84f1-22c4827139c9"
      },
      "execution_count": 10,
      "outputs": [
        {
          "output_type": "stream",
          "name": "stdout",
          "text": [
            "2.5727508068084717\n"
          ]
        }
      ]
    },
    {
      "cell_type": "code",
      "source": [
        "print(decode(m.generate(idx, max_new_tokens=300)[0].tolist()))"
      ],
      "metadata": {
        "colab": {
          "base_uri": "https://localhost:8080/"
        },
        "id": "m4kBSiP7lDwq",
        "outputId": "eae09f61-07f7-48cc-e3c9-7d2b6eaee5cb"
      },
      "execution_count": 11,
      "outputs": [
        {
          "output_type": "stream",
          "name": "stdout",
          "text": [
            "\n",
            "Iyoteng h hasbe pave pirance\n",
            "Rie hicomyonthar's\n",
            "Plinseard ith henoure wounonthioneir thondy, y heltieiengerofo'dsssit ey\n",
            "KIN d pe wither vouprrouthercc.\n",
            "hathe; d!\n",
            "My hind tt hinig t ouchos tes; st yo hind wotte grotonear 'so it t jod weancotha:\n",
            "h hay.JUCle n prids, r loncave w hollular s O:\n",
            "HIs; ht \n"
          ]
        }
      ]
    },
    {
      "cell_type": "markdown",
      "source": [
        "See, the model hasn't been trained correctly yet, but it's already giving some \"behaviored predictions\"."
      ],
      "metadata": {
        "id": "Vlr5Jm1Fr_ju"
      }
    },
    {
      "cell_type": "markdown",
      "source": [
        "# Self-Attention and the mathematical trick on it"
      ],
      "metadata": {
        "id": "rurBcm4EsOrl"
      }
    },
    {
      "cell_type": "code",
      "source": [
        "# toy example illustrating how matrix multiplication can be used for a \"weighted aggregation\"\n",
        "\n",
        "torch.manual_seed(42)\n",
        "a = torch.tril(torch.ones(3, 3))\n",
        "a = a / torch.sum(a, 1, keepdim=True)\n",
        "b = torch.randint(0,10,(3,2)).float()\n",
        "c = a @ b\n",
        "\n",
        "print('a=')\n",
        "print(a)\n",
        "print('--')\n",
        "print('b=')\n",
        "print(b)\n",
        "print('--')\n",
        "print('c=')\n",
        "print(c)"
      ],
      "metadata": {
        "colab": {
          "base_uri": "https://localhost:8080/"
        },
        "id": "Z_Y_hDSEsZBv",
        "outputId": "dbdc6e08-7713-49ff-c0a7-7e2e3ff6d446"
      },
      "execution_count": 12,
      "outputs": [
        {
          "output_type": "stream",
          "name": "stdout",
          "text": [
            "a=\n",
            "tensor([[1.0000, 0.0000, 0.0000],\n",
            "        [0.5000, 0.5000, 0.0000],\n",
            "        [0.3333, 0.3333, 0.3333]])\n",
            "--\n",
            "b=\n",
            "tensor([[2., 7.],\n",
            "        [6., 4.],\n",
            "        [6., 5.]])\n",
            "--\n",
            "c=\n",
            "tensor([[2.0000, 7.0000],\n",
            "        [4.0000, 5.5000],\n",
            "        [4.6667, 5.3333]])\n"
          ]
        }
      ]
    },
    {
      "cell_type": "code",
      "source": [
        "# consider the following toy example:\n",
        "\n",
        "torch.manual_seed(1337)\n",
        "B,T,C = 4,8,2 # batch, time, channels\n",
        "x = torch.randn(B,T,C)\n",
        "x.shape"
      ],
      "metadata": {
        "colab": {
          "base_uri": "https://localhost:8080/"
        },
        "id": "Z4h5L-ZLwSmb",
        "outputId": "f7c51a02-73b9-49fd-c3b4-24d34e78a62c"
      },
      "execution_count": 13,
      "outputs": [
        {
          "output_type": "execute_result",
          "data": {
            "text/plain": [
              "torch.Size([4, 8, 2])"
            ]
          },
          "metadata": {},
          "execution_count": 13
        }
      ]
    },
    {
      "cell_type": "code",
      "source": [
        "# We want x[b,t] = mean_{i<=t} x[b,i]\n",
        "#bow = bag of words\n",
        "xbow = torch.zeros((B,T,C))\n",
        "for b in range(B):\n",
        "    for t in range(T):\n",
        "        xprev = x[b,:t+1] # (t,C)\n",
        "        xbow[b,t] = torch.mean(xprev, 0)"
      ],
      "metadata": {
        "id": "wfO2yI1hwVAy"
      },
      "execution_count": 14,
      "outputs": []
    },
    {
      "cell_type": "code",
      "source": [
        "# version 2: using matrix multiply for a weighted aggregation\n",
        "\n",
        "wei = torch.tril(torch.ones(T, T))\n",
        "wei = wei / wei.sum(1, keepdim=True)\n",
        "xbow2 = wei @ x # (B, T, T) @ (B, T, C) ----> (B, T, C)\n",
        "torch.allclose(xbow, xbow2)"
      ],
      "metadata": {
        "colab": {
          "base_uri": "https://localhost:8080/"
        },
        "id": "i3v1QQjPwZhq",
        "outputId": "1398228c-f8c9-4c10-e9c5-ab78e4dbbb0e"
      },
      "execution_count": 15,
      "outputs": [
        {
          "output_type": "execute_result",
          "data": {
            "text/plain": [
              "True"
            ]
          },
          "metadata": {},
          "execution_count": 15
        }
      ]
    },
    {
      "cell_type": "code",
      "source": [
        "# version 3: use Softmax\n",
        "tril = torch.tril(torch.ones(T, T))\n",
        "wei = torch.zeros((T,T))\n",
        "wei = wei.masked_fill(tril == 0, float('-inf'))\n",
        "wei = F.softmax(wei, dim=-1)\n",
        "xbow3 = wei @ x\n",
        "torch.allclose(xbow, xbow3)"
      ],
      "metadata": {
        "colab": {
          "base_uri": "https://localhost:8080/"
        },
        "id": "Zsa7_hXry3c4",
        "outputId": "196faf7c-cff4-42c1-ba35-615d57fb9195"
      },
      "execution_count": 16,
      "outputs": [
        {
          "output_type": "execute_result",
          "data": {
            "text/plain": [
              "True"
            ]
          },
          "metadata": {},
          "execution_count": 16
        }
      ]
    },
    {
      "cell_type": "code",
      "source": [
        "# version 4: self-attention!\n",
        "torch.manual_seed(1337)\n",
        "B,T,C = 4,8,32 # batch, time, channels\n",
        "x = torch.randn(B,T,C)\n",
        "\n",
        "# let's implement a single head of self-attention\n",
        "head_size = 16\n",
        "\n",
        "key = nn.Linear(C, head_size, bias=False)\n",
        "query = nn.Linear(C, head_size, bias=False)\n",
        "value = nn.Linear(C, head_size, bias=False)\n",
        "\n",
        "k = key(x)   # (B, T, 16)\n",
        "q = query(x) # (B, T, 16)\n",
        "wei =  q @ k.transpose(-2, -1) # (B, T, 16) @ (B, 16, T) ---> (B, T, T)\n",
        "\n",
        "tril = torch.tril(torch.ones(T, T))\n",
        "#wei = torch.zeros((T,T))\n",
        "wei = wei.masked_fill(tril == 0, float('-inf'))\n",
        "wei = F.softmax(wei, dim=-1)\n",
        "\n",
        "v = value(x)\n",
        "out = wei @ v\n",
        "#out = wei @ x\n",
        "\n",
        "out.shape"
      ],
      "metadata": {
        "colab": {
          "base_uri": "https://localhost:8080/"
        },
        "id": "kAV8bkGwy6l4",
        "outputId": "1a0f3669-13b9-4989-e980-d1d9cc53adb7"
      },
      "execution_count": 17,
      "outputs": [
        {
          "output_type": "execute_result",
          "data": {
            "text/plain": [
              "torch.Size([4, 8, 16])"
            ]
          },
          "metadata": {},
          "execution_count": 17
        }
      ]
    },
    {
      "cell_type": "code",
      "source": [
        "wei[0]"
      ],
      "metadata": {
        "colab": {
          "base_uri": "https://localhost:8080/"
        },
        "id": "YdlSCPfky9HF",
        "outputId": "029f7a71-94f0-4d11-d17e-3dbddb530c09"
      },
      "execution_count": 18,
      "outputs": [
        {
          "output_type": "execute_result",
          "data": {
            "text/plain": [
              "tensor([[1.0000, 0.0000, 0.0000, 0.0000, 0.0000, 0.0000, 0.0000, 0.0000],\n",
              "        [0.1574, 0.8426, 0.0000, 0.0000, 0.0000, 0.0000, 0.0000, 0.0000],\n",
              "        [0.2088, 0.1646, 0.6266, 0.0000, 0.0000, 0.0000, 0.0000, 0.0000],\n",
              "        [0.5792, 0.1187, 0.1889, 0.1131, 0.0000, 0.0000, 0.0000, 0.0000],\n",
              "        [0.0294, 0.1052, 0.0469, 0.0276, 0.7909, 0.0000, 0.0000, 0.0000],\n",
              "        [0.0176, 0.2689, 0.0215, 0.0089, 0.6812, 0.0019, 0.0000, 0.0000],\n",
              "        [0.1691, 0.4066, 0.0438, 0.0416, 0.1048, 0.2012, 0.0329, 0.0000],\n",
              "        [0.0210, 0.0843, 0.0555, 0.2297, 0.0573, 0.0709, 0.2423, 0.2391]],\n",
              "       grad_fn=<SelectBackward0>)"
            ]
          },
          "metadata": {},
          "execution_count": 18
        }
      ]
    },
    {
      "cell_type": "markdown",
      "source": [
        "Some observations: \n",
        "\n",
        "\n",
        "\n",
        "*   Attention is a communication mechanism. Can be seen as nodes in a directed graph looking at each other and aggregating information with a weighted sum from all nodes that point to them, with data-dependent weights.\n",
        "*   There is no notion of space. Attention simply acts over a set of vectors. This is why we need to positionally encode tokens.\n",
        "* Each example across batch dimension is of course processed completely independently and never \"talk\" to each other\n",
        "In an \"encoder\" attention block just delete the single line that does masking with tril, allowing all tokens to communicate. This block here is called a \"decoder\" attention block because it has triangular masking, and is usually used in autoregressive settings, like language modeling.\n",
        "*\"self-attention\" just means that the keys and values are produced from the same source as queries. In \"cross-attention\", the queries still get produced from x, but the keys and values come from some other, external source (e.g. an encoder module)\n",
        "*\"Scaled\" attention additional divides wei by 1/sqrt(head_size). This makes it so when input Q,K are unit variance, wei will be unit variance too and Softmax will stay diffuse and not saturate too much. Illustration below\n",
        "\n",
        "\n",
        "\n",
        "\n",
        "\n",
        "\n",
        "![imagem_2023-05-11_140121275.png](data:image/png;base64,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)\n",
        "\n"
      ],
      "metadata": {
        "id": "S8pmmtgGwSDM"
      }
    },
    {
      "cell_type": "code",
      "source": [
        "k = torch.randn(B,T,head_size)\n",
        "q = torch.randn(B,T,head_size)\n",
        "wei = q @ k.transpose(-2, -1) * head_size**-0.5\n",
        "\n",
        "k.var()\n",
        "q.var()\n",
        "wei.var()\n",
        "torch.softmax(torch.tensor([0.1, -0.2, 0.3, -0.2, 0.5]), dim=-1)\n",
        "torch.softmax(torch.tensor([0.1, -0.2, 0.3, -0.2, 0.5])*8, dim=-1) # gets too peaky, converges to one-hot"
      ],
      "metadata": {
        "id": "QoPX-FGST57K",
        "colab": {
          "base_uri": "https://localhost:8080/"
        },
        "outputId": "17e33e29-dda3-44e4-b324-286f3e8c8f2c"
      },
      "execution_count": 20,
      "outputs": [
        {
          "output_type": "execute_result",
          "data": {
            "text/plain": [
              "tensor([0.0326, 0.0030, 0.1615, 0.0030, 0.8000])"
            ]
          },
          "metadata": {},
          "execution_count": 20
        }
      ]
    },
    {
      "cell_type": "code",
      "source": [
        "class LayerNorm1d: # (used to be BatchNorm1d)\n",
        "  \n",
        "  def __init__(self, dim, eps=1e-5, momentum=0.1):\n",
        "    self.eps = eps\n",
        "    self.gamma = torch.ones(dim)\n",
        "    self.beta = torch.zeros(dim)\n",
        "  \n",
        "  def __call__(self, x):\n",
        "    # calculate the forward pass\n",
        "    xmean = x.mean(1, keepdim=True) # batch mean\n",
        "    xvar = x.var(1, keepdim=True) # batch variance\n",
        "    xhat = (x - xmean) / torch.sqrt(xvar + self.eps) # normalize to unit variance\n",
        "    self.out = self.gamma * xhat + self.beta\n",
        "    return self.out\n",
        "  \n",
        "  def parameters(self):\n",
        "    return [self.gamma, self.beta]\n",
        "\n",
        "torch.manual_seed(1337)\n",
        "module = LayerNorm1d(100)\n",
        "x = torch.randn(32, 100) # batch size 32 of 100-dimensional vectors\n",
        "x = module(x)\n",
        "x.shape"
      ],
      "metadata": {
        "colab": {
          "base_uri": "https://localhost:8080/"
        },
        "id": "UoXf1S7Y5MO8",
        "outputId": "0a89e919-eb38-49b4-f8e8-1f4feb2946df"
      },
      "execution_count": 21,
      "outputs": [
        {
          "output_type": "execute_result",
          "data": {
            "text/plain": [
              "torch.Size([32, 100])"
            ]
          },
          "metadata": {},
          "execution_count": 21
        }
      ]
    },
    {
      "cell_type": "code",
      "source": [
        "x[:,0].mean(), x[:,0].std() # mean, std of one feature across all batch inputs"
      ],
      "metadata": {
        "colab": {
          "base_uri": "https://localhost:8080/"
        },
        "id": "q62un4Au5R7G",
        "outputId": "fa67ebde-e661-439b-c81e-06018f90c37a"
      },
      "execution_count": 22,
      "outputs": [
        {
          "output_type": "execute_result",
          "data": {
            "text/plain": [
              "(tensor(0.1469), tensor(0.8803))"
            ]
          },
          "metadata": {},
          "execution_count": 22
        }
      ]
    },
    {
      "cell_type": "code",
      "source": [
        "x[0,:].mean(), x[0,:].std() # mean, std of a single input from the batch, of its features"
      ],
      "metadata": {
        "colab": {
          "base_uri": "https://localhost:8080/"
        },
        "id": "P8KRi1g45Tu3",
        "outputId": "82f6a118-12e4-4d90-f09b-729bbfd12a40"
      },
      "execution_count": 23,
      "outputs": [
        {
          "output_type": "execute_result",
          "data": {
            "text/plain": [
              "(tensor(-9.5367e-09), tensor(1.0000))"
            ]
          },
          "metadata": {},
          "execution_count": 23
        }
      ]
    },
    {
      "cell_type": "markdown",
      "source": [
        "# The Final Result: Finally! "
      ],
      "metadata": {
        "id": "RZIPT6ShN73i"
      }
    },
    {
      "cell_type": "code",
      "source": [
        "import torch\n",
        "import torch.nn as nn\n",
        "from torch.nn import functional as F\n",
        "\n",
        "# hyperparameters\n",
        "batch_size = 16 # how many independent sequences will we process in parallel?\n",
        "block_size = 32 # what is the maximum context length for predictions?\n",
        "max_iters = 5000\n",
        "eval_interval = 100\n",
        "learning_rate = 1e-3\n",
        "device = 'cuda' if torch.cuda.is_available() else 'cpu'\n",
        "eval_iters = 200\n",
        "n_embd = 64\n",
        "n_head = 4\n",
        "n_layer = 4\n",
        "dropout = 0.0\n",
        "# ------------\n",
        "\n",
        "torch.manual_seed(1337)\n",
        "\n",
        "# wget https://raw.githubusercontent.com/karpathy/char-rnn/master/data/tinyshakespeare/input.txt\n",
        "with open('input.txt', 'r', encoding='utf-8') as f:\n",
        "    text = f.read()\n",
        "\n",
        "# here are all the unique characters that occur in this text\n",
        "chars = sorted(list(set(text)))\n",
        "vocab_size = len(chars)\n",
        "# create a mapping from characters to integers\n",
        "stoi = { ch:i for i,ch in enumerate(chars) }\n",
        "itos = { i:ch for i,ch in enumerate(chars) }\n",
        "encode = lambda s: [stoi[c] for c in s] # encoder: take a string, output a list of integers\n",
        "decode = lambda l: ''.join([itos[i] for i in l]) # decoder: take a list of integers, output a string\n",
        "\n",
        "# Train and test splits\n",
        "data = torch.tensor(encode(text), dtype=torch.long)\n",
        "n = int(0.9*len(data)) # first 90% will be train, rest val\n",
        "train_data = data[:n]\n",
        "val_data = data[n:]\n",
        "\n",
        "# data loading\n",
        "def get_batch(split):\n",
        "    # generate a small batch of data of inputs x and targets y\n",
        "    data = train_data if split == 'train' else val_data\n",
        "    ix = torch.randint(len(data) - block_size, (batch_size,))\n",
        "    x = torch.stack([data[i:i+block_size] for i in ix])\n",
        "    y = torch.stack([data[i+1:i+block_size+1] for i in ix])\n",
        "    x, y = x.to(device), y.to(device)\n",
        "    return x, y\n",
        "\n",
        "@torch.no_grad()\n",
        "def estimate_loss():\n",
        "    out = {}\n",
        "    model.eval()\n",
        "    for split in ['train', 'val']:\n",
        "        losses = torch.zeros(eval_iters)\n",
        "        for k in range(eval_iters):\n",
        "            X, Y = get_batch(split)\n",
        "            logits, loss = model(X, Y)\n",
        "            losses[k] = loss.item()\n",
        "        out[split] = losses.mean()\n",
        "    model.train()\n",
        "    return out\n",
        "\n",
        "class Head(nn.Module):\n",
        "    \"\"\" one head of self-attention \"\"\"\n",
        "\n",
        "    def __init__(self, head_size):\n",
        "        super().__init__()\n",
        "        self.key = nn.Linear(n_embd, head_size, bias=False)\n",
        "        self.query = nn.Linear(n_embd, head_size, bias=False)\n",
        "        self.value = nn.Linear(n_embd, head_size, bias=False)\n",
        "        self.register_buffer('tril', torch.tril(torch.ones(block_size, block_size)))\n",
        "\n",
        "        self.dropout = nn.Dropout(dropout)\n",
        "\n",
        "    def forward(self, x):\n",
        "        B,T,C = x.shape\n",
        "        k = self.key(x)   # (B,T,C)\n",
        "        q = self.query(x) # (B,T,C)\n",
        "        # compute attention scores (\"affinities\")\n",
        "        wei = q @ k.transpose(-2,-1) * C**-0.5 # (B, T, C) @ (B, C, T) -> (B, T, T)\n",
        "        wei = wei.masked_fill(self.tril[:T, :T] == 0, float('-inf')) # (B, T, T)\n",
        "        wei = F.softmax(wei, dim=-1) # (B, T, T)\n",
        "        wei = self.dropout(wei)\n",
        "        # perform the weighted aggregation of the values\n",
        "        v = self.value(x) # (B,T,C)\n",
        "        out = wei @ v # (B, T, T) @ (B, T, C) -> (B, T, C)\n",
        "        return out\n",
        "\n",
        "class MultiHeadAttention(nn.Module):\n",
        "    \"\"\" multiple heads of self-attention in parallel \"\"\"\n",
        "\n",
        "    def __init__(self, num_heads, head_size):\n",
        "        super().__init__()\n",
        "        self.heads = nn.ModuleList([Head(head_size) for _ in range(num_heads)])\n",
        "        self.proj = nn.Linear(n_embd, n_embd)\n",
        "        self.dropout = nn.Dropout(dropout)\n",
        "\n",
        "    def forward(self, x):\n",
        "        out = torch.cat([h(x) for h in self.heads], dim=-1)\n",
        "        out = self.dropout(self.proj(out))\n",
        "        return out\n",
        "\n",
        "class FeedFoward(nn.Module):\n",
        "    \"\"\" a simple linear layer followed by a non-linearity \"\"\"\n",
        "\n",
        "    def __init__(self, n_embd):\n",
        "        super().__init__()\n",
        "        self.net = nn.Sequential(\n",
        "            nn.Linear(n_embd, 4 * n_embd),\n",
        "            nn.ReLU(),\n",
        "            nn.Linear(4 * n_embd, n_embd),\n",
        "            nn.Dropout(dropout),\n",
        "        )\n",
        "\n",
        "    def forward(self, x):\n",
        "        return self.net(x)\n",
        "\n",
        "class Block(nn.Module):\n",
        "    \"\"\" Transformer block: communication followed by computation \"\"\"\n",
        "\n",
        "    def __init__(self, n_embd, n_head):\n",
        "        # n_embd: embedding dimension, n_head: the number of heads we'd like\n",
        "        super().__init__()\n",
        "        head_size = n_embd // n_head\n",
        "        self.sa = MultiHeadAttention(n_head, head_size)\n",
        "        self.ffwd = FeedFoward(n_embd)\n",
        "        self.ln1 = nn.LayerNorm(n_embd)\n",
        "        self.ln2 = nn.LayerNorm(n_embd)\n",
        "\n",
        "    def forward(self, x):\n",
        "        x = x + self.sa(self.ln1(x))\n",
        "        x = x + self.ffwd(self.ln2(x))\n",
        "        return x\n",
        "\n",
        "# super simple bigram model\n",
        "class BigramLanguageModel(nn.Module):\n",
        "\n",
        "    def __init__(self):\n",
        "        super().__init__()\n",
        "        # each token directly reads off the logits for the next token from a lookup table\n",
        "        self.token_embedding_table = nn.Embedding(vocab_size, n_embd)\n",
        "        self.position_embedding_table = nn.Embedding(block_size, n_embd)\n",
        "        self.blocks = nn.Sequential(*[Block(n_embd, n_head=n_head) for _ in range(n_layer)])\n",
        "        self.ln_f = nn.LayerNorm(n_embd) # final layer norm\n",
        "        self.lm_head = nn.Linear(n_embd, vocab_size)\n",
        "\n",
        "    def forward(self, idx, targets=None):\n",
        "        B, T = idx.shape\n",
        "\n",
        "        # idx and targets are both (B,T) tensor of integers\n",
        "        tok_emb = self.token_embedding_table(idx) # (B,T,C)\n",
        "        pos_emb = self.position_embedding_table(torch.arange(T, device=device)) # (T,C)\n",
        "        x = tok_emb + pos_emb # (B,T,C)\n",
        "        x = self.blocks(x) # (B,T,C)\n",
        "        x = self.ln_f(x) # (B,T,C)\n",
        "        logits = self.lm_head(x) # (B,T,vocab_size)\n",
        "\n",
        "        if targets is None:\n",
        "            loss = None\n",
        "        else:\n",
        "            B, T, C = logits.shape\n",
        "            logits = logits.view(B*T, C)\n",
        "            targets = targets.view(B*T)\n",
        "            loss = F.cross_entropy(logits, targets)\n",
        "\n",
        "        return logits, loss\n",
        "\n",
        "    def generate(self, idx, max_new_tokens):\n",
        "        # idx is (B, T) array of indices in the current context\n",
        "        for _ in range(max_new_tokens):\n",
        "            # crop idx to the last block_size tokens\n",
        "            idx_cond = idx[:, -block_size:]\n",
        "            # get the predictions\n",
        "            logits, loss = self(idx_cond)\n",
        "            # focus only on the last time step\n",
        "            logits = logits[:, -1, :] # becomes (B, C)\n",
        "            # apply softmax to get probabilities\n",
        "            probs = F.softmax(logits, dim=-1) # (B, C)\n",
        "            # sample from the distribution\n",
        "            idx_next = torch.multinomial(probs, num_samples=1) # (B, 1)\n",
        "            # append sampled index to the running sequence\n",
        "            idx = torch.cat((idx, idx_next), dim=1) # (B, T+1)\n",
        "        return idx\n",
        "\n",
        "model = BigramLanguageModel()\n",
        "m = model.to(device)\n",
        "\n",
        "# print the number of parameters in the model\n",
        "print(sum(p.numel() for p in m.parameters())/1e6, 'M parameters')\n",
        "\n",
        "\n",
        "optimizer = torch.optim.AdamW(model.parameters(), lr=learning_rate)\n",
        "\n",
        "for iter in range(max_iters):\n",
        "\n",
        "    # evaluating the loss on train and val sets every once in a while\n",
        "    if iter % eval_interval == 0 or iter == max_iters - 1:\n",
        "        losses = estimate_loss()\n",
        "        print(f\"step {iter}: train loss {losses['train']:.4f}, val loss {losses['val']:.4f}\")\n",
        "\n",
        "    # sample a batch of data\n",
        "    xb, yb = get_batch('train')\n",
        "\n",
        "    # evaluate the loss\n",
        "    logits, loss = model(xb, yb)\n",
        "    optimizer.zero_grad(set_to_none=True)\n",
        "    loss.backward()\n",
        "    optimizer.step()\n",
        "\n",
        "# generating prediction from the model trained\n",
        "context = torch.zeros((1, 1), dtype=torch.long, device=device)\n",
        "print(decode(m.generate(context, max_new_tokens=2000)[0].tolist()))"
      ],
      "metadata": {
        "colab": {
          "base_uri": "https://localhost:8080/"
        },
        "id": "m_WVa313HtX5",
        "outputId": "7a63064a-d14c-4e83-b251-24c6e62725df"
      },
      "execution_count": 24,
      "outputs": [
        {
          "output_type": "stream",
          "name": "stdout",
          "text": [
            "0.209729 M parameters\n",
            "step 0: train loss 4.4116, val loss 4.4022\n",
            "step 100: train loss 2.6568, val loss 2.6670\n",
            "step 200: train loss 2.5091, val loss 2.5059\n",
            "step 300: train loss 2.4194, val loss 2.4335\n",
            "step 400: train loss 2.3500, val loss 2.3564\n",
            "step 500: train loss 2.2965, val loss 2.3127\n",
            "step 600: train loss 2.2412, val loss 2.2502\n",
            "step 700: train loss 2.2047, val loss 2.2183\n",
            "step 800: train loss 2.1642, val loss 2.1874\n",
            "step 900: train loss 2.1249, val loss 2.1506\n",
            "step 1000: train loss 2.1030, val loss 2.1297\n",
            "step 1100: train loss 2.0700, val loss 2.1182\n",
            "step 1200: train loss 2.0384, val loss 2.0800\n",
            "step 1300: train loss 2.0252, val loss 2.0643\n",
            "step 1400: train loss 1.9916, val loss 2.0358\n",
            "step 1500: train loss 1.9703, val loss 2.0305\n",
            "step 1600: train loss 1.9626, val loss 2.0485\n",
            "step 1700: train loss 1.9413, val loss 2.0144\n",
            "step 1800: train loss 1.9087, val loss 1.9962\n",
            "step 1900: train loss 1.9089, val loss 1.9891\n",
            "step 2000: train loss 1.8865, val loss 1.9969\n",
            "step 2100: train loss 1.8720, val loss 1.9763\n",
            "step 2200: train loss 1.8580, val loss 1.9599\n",
            "step 2300: train loss 1.8556, val loss 1.9518\n",
            "step 2400: train loss 1.8422, val loss 1.9443\n",
            "step 2500: train loss 1.8174, val loss 1.9449\n",
            "step 2600: train loss 1.8273, val loss 1.9386\n",
            "step 2700: train loss 1.8133, val loss 1.9341\n",
            "step 2800: train loss 1.8045, val loss 1.9221\n",
            "step 2900: train loss 1.8049, val loss 1.9316\n",
            "step 3000: train loss 1.7953, val loss 1.9211\n",
            "step 3100: train loss 1.7672, val loss 1.9176\n",
            "step 3200: train loss 1.7538, val loss 1.9093\n",
            "step 3300: train loss 1.7553, val loss 1.9030\n",
            "step 3400: train loss 1.7548, val loss 1.8958\n",
            "step 3500: train loss 1.7384, val loss 1.8937\n",
            "step 3600: train loss 1.7264, val loss 1.8864\n",
            "step 3700: train loss 1.7297, val loss 1.8808\n",
            "step 3800: train loss 1.7192, val loss 1.8937\n",
            "step 3900: train loss 1.7215, val loss 1.8749\n",
            "step 4000: train loss 1.7145, val loss 1.8593\n",
            "step 4100: train loss 1.7131, val loss 1.8775\n",
            "step 4200: train loss 1.7061, val loss 1.8676\n",
            "step 4300: train loss 1.6996, val loss 1.8491\n",
            "step 4400: train loss 1.7066, val loss 1.8659\n",
            "step 4500: train loss 1.6883, val loss 1.8506\n",
            "step 4600: train loss 1.6844, val loss 1.8343\n",
            "step 4700: train loss 1.6839, val loss 1.8464\n",
            "step 4800: train loss 1.6665, val loss 1.8446\n",
            "step 4900: train loss 1.6694, val loss 1.8355\n",
            "step 4999: train loss 1.6642, val loss 1.8239\n",
            "\n",
            "ROMEO:\n",
            "But you fret, hell, where Volivius:\n",
            "They now I usless like, to to see this grand; I'll must sprinks dray-wretor upwon alond, liege wan thy lace blaniess to hanger and nour gruest:\n",
            "Now to by betwers tot, tow, go:\n",
            "Eve nor to his ghards wifill my join not.\n",
            "\n",
            "LUCIY:\n",
            "Lord,----\n",
            "But thou sging them but\n",
            "am they beens us\n",
            "By thou sovore.\n",
            "\n",
            "ISABELLA:\n",
            "The pitsade but grove to hadgeles!\n",
            "\n",
            "CLARD:\n",
            "The kingle me; an your tords wants jecuntal.\n",
            "\n",
            "MENVO:\n",
            "I be e'll comfsir, whom in the sceed with mad him to is forgiving:\n",
            "Go, be slouce ways! do to-smages:\n",
            "Once it his susin, passess stond? the haspe, lew, ever some to me with dought:\n",
            "In your hear him, and that, out thy whose my late all that you by joyly us beliess Lord:\n",
            "Well-mone is not lets, for with!\n",
            "He arre royper rivioled orcusion\n",
            "What confess, temile you by that thou grurn that such differs I'll bear confetio-s:\n",
            "To, no at and her long wornt, and on aflience;\n",
            "And um you, profort, take, thou, names:\n",
            "In mistragoing, now our beavehs exeny with.\n",
            "\n",
            "GLOUCESTER:\n",
            "\n",
            "HENRY Me, whose? but to good it that wing thy dukes,\n",
            "I ward than war\n",
            "offightant, I us onle adgrians viles.\n",
            "\n",
            "PUMPERD:\n",
            "It that advouter:\n",
            "If ver have her.\n",
            "Must now sow I wish that my brunk\n",
            "But you renvenger am stand and of the loves mark own!\n",
            "'Dacking to the sid, to? so.\n",
            "Yet my singel I ranca: thou fult,\n",
            "An king this woulds no the said out\n",
            "offerds frul, I'll Rame, to beets nighm\n",
            "in hims adughted diernm.\n",
            "3 And Mow your whorth\n",
            "And whom fetch unto will rest:\n",
            "My brive, her his toward to that his sabired.\n",
            "But, prewer, sorrow lom if curner,\n",
            "But us so, tondury; wat's fastes for your heere whope snonet stand the father adviets Cappentriagh that brird\n",
            "of say mover a desrick.\n",
            "\n",
            "MONTAM:\n",
            "You he; give\n",
            "Nince, I is have.\n",
            "\n",
            "Set:\n",
            "BUCKINGHAM:\n",
            "Let requmal I upon me.\n",
            "\n",
            "HENRY BOLINGBRA:\n",
            "That wife the back with wowitte,\n",
            "Which bunnain fall more in in meept twate,\n",
            "You staves that high pray plate on bring.\n",
            "\n",
            "NORDUKE:\n",
            "The stituly, maint, yet having. But, the castions:\n",
            "O 'tis lace;--\n",
            "\n",
            "BUCKINGS:\n",
            "On; grave, before\n"
          ]
        }
      ]
    }
  ]
}